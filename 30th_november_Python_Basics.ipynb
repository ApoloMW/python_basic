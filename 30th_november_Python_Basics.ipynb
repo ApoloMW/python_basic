{
  "nbformat": 4,
  "nbformat_minor": 0,
  "metadata": {
    "colab": {
      "provenance": []
    },
    "kernelspec": {
      "name": "python3",
      "display_name": "Python 3"
    },
    "language_info": {
      "name": "python"
    }
  },
  "cells": [
    {
      "cell_type": "markdown",
      "source": [
        "# TOPIC: Python Basics Variable\n",
        "1. Declare two variables, `x` and `y`, and assign them integer values. Swap the\n",
        "values of these variables without using any temporary variable."
      ],
      "metadata": {
        "id": "6qNAihHEHieM"
      }
    },
    {
      "cell_type": "code",
      "source": [
        "x=int(input(\"Enter the first variable: \"))\n",
        "y=int(input(\"Enter the second variable: \"))\n",
        "x = x+y\n",
        "y = x-y\n",
        "x = x-y\n",
        "print(\"x = \",x)\n",
        "print(\"y = \",y)"
      ],
      "metadata": {
        "colab": {
          "base_uri": "https://localhost:8080/"
        },
        "id": "SABcnX2CHoQM",
        "outputId": "7f0f0af4-05ed-4f71-8ddb-4f48e5752b25"
      },
      "execution_count": 1,
      "outputs": [
        {
          "output_type": "stream",
          "name": "stdout",
          "text": [
            "Enter the first variable: 7\n",
            "Enter the second variable: 8\n",
            "x= 8\n",
            "y= 7\n"
          ]
        }
      ]
    },
    {
      "cell_type": "markdown",
      "source": [
        "2.Create a program that calculates the area of a rectangle. Take the length and\n",
        "width as inputs from the user and store them in variables. Calculate and\n",
        "display the area."
      ],
      "metadata": {
        "id": "ZPcEBrGeJGFr"
      }
    },
    {
      "cell_type": "code",
      "source": [
        "a = float(input(\"Enter the length of the rectangle: \"))\n",
        "b = float(input(\"Enter the width of the rectangle: \"))\n",
        "area =a*b\n",
        "print(\"The area of the rectangle =\" , area )"
      ],
      "metadata": {
        "colab": {
          "base_uri": "https://localhost:8080/"
        },
        "id": "D2yYnQSDJUlX",
        "outputId": "d3dbed6a-d1a8-48d9-f02e-12dbfe3e8236"
      },
      "execution_count": 3,
      "outputs": [
        {
          "output_type": "stream",
          "name": "stdout",
          "text": [
            "Enter the length of a rectangle: 5.5\n",
            "Enter the width of the rectangle: 3.4\n",
            "The area of the rectangle = 18.7\n"
          ]
        }
      ]
    },
    {
      "cell_type": "markdown",
      "source": [
        "3.Write a Python program that converts temperatures from Celsius to\n",
        "Fahrenheit. Take the temperature in Celsius as input, store it in a variable,\n",
        "convert it to Fahrenheit, and display the result."
      ],
      "metadata": {
        "id": "ujBvLWwfMUyg"
      }
    },
    {
      "cell_type": "code",
      "source": [
        "temp_c = float(input(\"Enter the temperature in Celcius: \"))\n",
        "temp_f = (9/5)*temp_c + 32\n",
        "print(\"The given temperature in Fahrenheit = \", temp_f)"
      ],
      "metadata": {
        "colab": {
          "base_uri": "https://localhost:8080/"
        },
        "id": "AesM72OjMYAA",
        "outputId": "5797212f-2da8-4962-edc5-740a36b08dee"
      },
      "execution_count": 7,
      "outputs": [
        {
          "output_type": "stream",
          "name": "stdout",
          "text": [
            "Enter the temperature in Celcius: 100\n",
            "The given temperature in Fahrenheit =  212.0\n"
          ]
        }
      ]
    },
    {
      "cell_type": "markdown",
      "source": [],
      "metadata": {
        "id": "e-vJljzxM-C-"
      }
    },
    {
      "cell_type": "markdown",
      "source": [
        "# TOPIC: String Based Questions\n",
        "1.Write a Python program that takes a string as input and prints the length of\n",
        "the string."
      ],
      "metadata": {
        "id": "8Vi8RBdwNIJu"
      }
    },
    {
      "cell_type": "code",
      "source": [
        "a = input(\"Enter a string: \")\n",
        "print(f\"The length of \\\"{a}\\\" is {len(a)}\")"
      ],
      "metadata": {
        "colab": {
          "base_uri": "https://localhost:8080/"
        },
        "id": "6otZhL_TNYYq",
        "outputId": "b296177b-a456-43f0-ec6a-03c423ca07b1"
      },
      "execution_count": 12,
      "outputs": [
        {
          "output_type": "stream",
          "name": "stdout",
          "text": [
            "Enter a string: Apolo wakambam\n",
            "The length of \"Apolo wakambam\" is 14\n"
          ]
        }
      ]
    },
    {
      "cell_type": "markdown",
      "source": [
        "2. Create a program that takes a sentence from the user and counts the number\n",
        "of vowels (a, e, i, o, u) in the string."
      ],
      "metadata": {
        "id": "QuPhTvcuPYxG"
      }
    },
    {
      "cell_type": "code",
      "source": [
        "a = input(\"enter a sentence : \")\n",
        "a = a.lower()\n",
        "cnt= a.count(\"a\")+a.count(\"e\")+a.count(\"i\") +a.count(\"o\") +a.count(\"u\")\n",
        "print(\"The number of vowels are \" , cnt)"
      ],
      "metadata": {
        "colab": {
          "base_uri": "https://localhost:8080/"
        },
        "id": "prv1XwJINamS",
        "outputId": "6a090b79-63a5-4653-8aa4-09e77c846646"
      },
      "execution_count": 20,
      "outputs": [
        {
          "output_type": "stream",
          "name": "stdout",
          "text": [
            "enter a sentence : Apolo\n",
            "The number of vowels are  3\n"
          ]
        }
      ]
    },
    {
      "cell_type": "markdown",
      "source": [
        "3. Given a string, reverse the order of characters using string slicing and print\n",
        "the reversed string."
      ],
      "metadata": {
        "id": "x8C8xXvuR3Ah"
      }
    },
    {
      "cell_type": "code",
      "source": [
        "s = input(\"Enter the string: \")\n",
        "s_rev = s[::-1]\n",
        "print(\"The reversed string is\", s_rev)"
      ],
      "metadata": {
        "colab": {
          "base_uri": "https://localhost:8080/"
        },
        "id": "31zyLimwQYu_",
        "outputId": "0de04b55-7505-44ff-d9a4-1088043a5622"
      },
      "execution_count": 25,
      "outputs": [
        {
          "output_type": "stream",
          "name": "stdout",
          "text": [
            "Enter the string: Hello World\n",
            "The reversed string is dlroW olleH\n"
          ]
        }
      ]
    },
    {
      "cell_type": "markdown",
      "source": [
        "4. Write a program that takes a string as input and checks if it is a palindrome\n",
        "(reads the same forwards and backwards)."
      ],
      "metadata": {
        "id": "s5hdDOaOTV3t"
      }
    },
    {
      "cell_type": "code",
      "source": [
        "s = input(\"Enter  a string: \")\n",
        "s= s.lower()\n",
        "rev_s = s[::-1]\n",
        "if s ==rev_s:\n",
        "  print(\"The given string is palindrome\")\n",
        "else:\n",
        "  print(\"The given string is not palindrome\")\n"
      ],
      "metadata": {
        "colab": {
          "base_uri": "https://localhost:8080/"
        },
        "id": "iS0Q0XghTWIf",
        "outputId": "bb8ece06-a7dc-4564-b3bb-777ff1a735d0"
      },
      "execution_count": 28,
      "outputs": [
        {
          "output_type": "stream",
          "name": "stdout",
          "text": [
            "Enter  a string: Madam\n",
            "The given string is palindrome\n"
          ]
        }
      ]
    },
    {
      "cell_type": "markdown",
      "source": [
        "5. Create a program that takes a string as input and removes all the spaces from\n",
        "it. Print the modified string without spaces."
      ],
      "metadata": {
        "id": "dEpvDMLXUqXG"
      }
    },
    {
      "cell_type": "code",
      "source": [
        "s = input(\"Enter  a string: \")\n",
        "s= s.split()\n",
        "a=''\n",
        "for i in range(len(s)):\n",
        "  a=a+s[i]\n",
        "print(a)"
      ],
      "metadata": {
        "colab": {
          "base_uri": "https://localhost:8080/"
        },
        "id": "9eEnfbGgUDKK",
        "outputId": "22470402-dd0b-4038-98d9-610ea5260ed0"
      },
      "execution_count": 31,
      "outputs": [
        {
          "output_type": "stream",
          "name": "stdout",
          "text": [
            "Enter  a string: Hello world ! I'm Apolo Wakambam\n",
            "Helloworld!I'mApoloWakambam\n"
          ]
        }
      ]
    }
  ]
}